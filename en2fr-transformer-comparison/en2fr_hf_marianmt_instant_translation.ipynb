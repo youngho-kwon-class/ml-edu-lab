{
  "nbformat": 4,
  "nbformat_minor": 0,
  "metadata": {
    "colab": {
      "provenance": [],
      "gpuType": "T4",
      "authorship_tag": "ABX9TyOdE82TDJfcMvUf/XelebKa"
    },
    "kernelspec": {
      "name": "python3",
      "display_name": "Python 3"
    },
    "language_info": {
      "name": "python"
    },
    "accelerator": "GPU"
  },
  "cells": [
    {
      "cell_type": "markdown",
      "source": [
        "# EN→FR Translation with Hugging Face MarianMT Pretrained Model\n",
        "\n",
        "This notebook demonstrates **English→French translation** using\n",
        "the Hugging Face pretrained `Helsinki-NLP/opus-mt-en-fr` model.\n",
        "\n",
        "> ✅ **Advantages:**\n",
        "> - Translates instantly without any training\n",
        "> - Pretrained on large‑scale parallel corpora\n",
        "> - Runs in both CPU and GPU Colab environments; initial download/load may take tens of seconds–minutes, and CPU inference is slower (seconds–tens of seconds) while GPU inference is much faster (sub-second–few seconds).\n",
        "\n",
        "## Learning Goals\n",
        "- Load and run a pretrained model with `transformers`\n",
        "- Tokenize and detokenize text for translation\n",
        "- Translate single or multiple sentences"
      ],
      "metadata": {
        "id": "AdxNkNiz1k4R"
      }
    },
    {
      "cell_type": "code",
      "execution_count": null,
      "metadata": {
        "id": "0w61LwrA1UOJ"
      },
      "outputs": [],
      "source": [
        "!pip install transformers sentencepiece --quiet\n",
        "\n",
        "from transformers import MarianMTModel, MarianTokenizer\n",
        "\n",
        "# 1. Load a pretrained EN→FR model (MarianMT family)\n",
        "model_name = \"Helsinki-NLP/opus-mt-en-fr\"\n",
        "hf_tokenizer = MarianTokenizer.from_pretrained(model_name)\n",
        "hf_model = MarianMTModel.from_pretrained(model_name)\n",
        "\n",
        "# 2. Translation function\n",
        "def hf_translate_en_to_fr(texts):\n",
        "    # Accept either a single string or a list of strings\n",
        "    if isinstance(texts, str):\n",
        "        texts = [texts]  # Convert single sentence to a list for consistent processing\n",
        "    # Tokenize the input texts and return PyTorch tensors; enable padding and truncation\n",
        "    inputs = hf_tokenizer(texts, return_tensors=\"pt\", padding=True, truncation=True)\n",
        "    # Generate translations using the model\n",
        "    translated = hf_model.generate(**inputs)\n",
        "    # Decode token ids back to strings, removing special tokens\n",
        "    return [hf_tokenizer.decode(t, skip_special_tokens=True) for t in translated]\n"
      ]
    },
    {
      "cell_type": "code",
      "source": [
        "sentence = \"I ate a sandwich.\"\n",
        "result = hf_translate_en_to_fr(sentence)\n",
        "print(f\"EN: {sentence}\")\n",
        "print(f\"FR: {result[0]}\")"
      ],
      "metadata": {
        "colab": {
          "base_uri": "https://localhost:8080/"
        },
        "id": "lGHkxoDY1vCq",
        "outputId": "5015614d-ae85-486e-85ba-44bd6a2d2e77"
      },
      "execution_count": null,
      "outputs": [
        {
          "output_type": "stream",
          "name": "stdout",
          "text": [
            "EN: I ate a sandwich.\n",
            "FR: J'ai mangé un sandwich.\n"
          ]
        }
      ]
    },
    {
      "cell_type": "code",
      "source": [
        "sentences = [\n",
        "    \"She is reading a book.\",\n",
        "    \"We are going to the park tomorrow.\",\n",
        "    \"This AI model can translate English to French instantly.\"\n",
        "]\n",
        "results = hf_translate_en_to_fr(sentences)\n",
        "\n",
        "for en, fr in zip(sentences, results):\n",
        "    print(f\"EN: {en}\")\n",
        "    print(f\"FR: {fr}\")\n",
        "    print()"
      ],
      "metadata": {
        "colab": {
          "base_uri": "https://localhost:8080/"
        },
        "id": "1zH66M3T1xNC",
        "outputId": "7fc87b27-e36d-4ab1-c798-17be487f576b"
      },
      "execution_count": null,
      "outputs": [
        {
          "output_type": "stream",
          "name": "stdout",
          "text": [
            "EN: She is reading a book.\n",
            "FR: Elle lit un livre.\n",
            "\n",
            "EN: We are going to the park tomorrow.\n",
            "FR: Nous allons au parc demain.\n",
            "\n",
            "EN: This AI model can translate English to French instantly.\n",
            "FR: Ce modèle d'IA peut traduire l'anglais en français instantanément.\n",
            "\n"
          ]
        }
      ]
    }
  ]
}