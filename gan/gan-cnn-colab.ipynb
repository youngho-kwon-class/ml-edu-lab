{
  "nbformat": 4,
  "nbformat_minor": 0,
  "metadata": {
    "colab": {
      "provenance": [],
      "authorship_tag": "ABX9TyP33kKVaZ3qup6h4HgMp21w",
      "include_colab_link": true
    },
    "kernelspec": {
      "name": "python3",
      "display_name": "Python 3"
    },
    "language_info": {
      "name": "python"
    }
  },
  "cells": [
    {
      "cell_type": "markdown",
      "metadata": {
        "id": "view-in-github",
        "colab_type": "text"
      },
      "source": [
        "<a href=\"https://colab.research.google.com/github/youngho-kwon-class/ml-edu-lab/blob/main/gan/gan-cnn-colab.ipynb\" target=\"_parent\"><img src=\"https://colab.research.google.com/assets/colab-badge.svg\" alt=\"Open In Colab\"/></a>"
      ]
    },
    {
      "cell_type": "code",
      "execution_count": 1,
      "metadata": {
        "colab": {
          "base_uri": "https://localhost:8080/",
          "height": 1000
        },
        "id": "L4k_Zd8nqMJN",
        "outputId": "147bf2c1-253b-4a7c-efc8-a7ee77dcfe46"
      },
      "outputs": [
        {
          "output_type": "stream",
          "name": "stderr",
          "text": [
            "100%|██████████| 9.91M/9.91M [00:01<00:00, 6.06MB/s]\n",
            "100%|██████████| 28.9k/28.9k [00:00<00:00, 160kB/s]\n",
            "100%|██████████| 1.65M/1.65M [00:01<00:00, 1.51MB/s]\n",
            "100%|██████████| 4.54k/4.54k [00:00<00:00, 6.77MB/s]\n"
          ]
        },
        {
          "output_type": "stream",
          "name": "stdout",
          "text": [
            "Epoch 1/20 | D Loss: 0.1350 | G Loss: 2.3815\n",
            "Epoch 2/20 | D Loss: 0.1615 | G Loss: 4.7725\n",
            "Epoch 3/20 | D Loss: 0.1405 | G Loss: 4.8212\n",
            "Epoch 4/20 | D Loss: 0.6290 | G Loss: 2.5608\n",
            "Epoch 5/20 | D Loss: 0.6018 | G Loss: 2.2287\n",
            "Epoch 6/20 | D Loss: 0.8602 | G Loss: 1.4422\n",
            "Epoch 7/20 | D Loss: 1.4377 | G Loss: 1.6547\n",
            "Epoch 8/20 | D Loss: 0.4269 | G Loss: 2.2543\n",
            "Epoch 9/20 | D Loss: 1.3517 | G Loss: 0.8174\n",
            "Epoch 10/20 | D Loss: 0.5083 | G Loss: 1.7049\n",
            "Epoch 11/20 | D Loss: 0.1928 | G Loss: 3.5093\n",
            "Epoch 12/20 | D Loss: 0.5158 | G Loss: 2.0113\n",
            "Epoch 13/20 | D Loss: 0.2152 | G Loss: 2.9090\n",
            "Epoch 14/20 | D Loss: 0.3391 | G Loss: 3.6752\n",
            "Epoch 15/20 | D Loss: 0.1269 | G Loss: 6.4122\n",
            "Epoch 16/20 | D Loss: 0.1068 | G Loss: 4.3239\n",
            "Epoch 17/20 | D Loss: 0.1493 | G Loss: 4.8000\n",
            "Epoch 18/20 | D Loss: 0.0894 | G Loss: 3.7771\n",
            "Epoch 19/20 | D Loss: 0.0356 | G Loss: 5.2181\n",
            "Epoch 20/20 | D Loss: 0.1944 | G Loss: 2.6767\n"
          ]
        },
        {
          "output_type": "display_data",
          "data": {
            "text/plain": [
              "<Figure size 600x600 with 16 Axes>"
            ],
            "image/png": "[encoded data removed]"
          },
          "metadata": {}
        }
      ],
      "source": [
        "#1.라이브러리 정의\n",
        "\n",
        "import torch\n",
        "import torch.nn as nn\n",
        "from torchvision import datasets, transforms\n",
        "from torch.utils.data import DataLoader\n",
        "import matplotlib.pyplot as plt\n",
        "import numpy as np\n",
        "\n",
        "device = torch.device(\"cuda\" if torch.cuda.is_available() else \"cpu\")\n",
        "\n",
        "#2.MNIST 데이터셋 load\n",
        "\n",
        "transform = transforms.Compose([\n",
        "    transforms.ToTensor(),\n",
        "    transforms.Normalize([0.5], [0.5])  # [-1, 1] 범위로 정규화\n",
        "])\n",
        "\n",
        "train_dataset = datasets.MNIST(root='./data', train=True, download=True, transform=transform)\n",
        "train_loader = DataLoader(train_dataset, batch_size=128, shuffle=True)\n",
        "\n",
        " #3. Generator & Discriminator 정의\n",
        "\n",
        "class Generator(nn.Module):\n",
        "    def __init__(self, latent_dim=100):\n",
        "        super(Generator, self).__init__()\n",
        "        self.model = nn.Sequential(\n",
        "            nn.Linear(latent_dim, 256),\n",
        "            nn.ReLU(True),\n",
        "            nn.Linear(256, 512),\n",
        "            nn.ReLU(True),\n",
        "            nn.Linear(512, 1024),\n",
        "            nn.ReLU(True),\n",
        "            nn.Linear(1024, 28*28),\n",
        "            nn.Tanh()\n",
        "        )\n",
        "\n",
        "    def forward(self, z):\n",
        "        img = self.model(z)\n",
        "        return img.view(-1, 1, 28, 28)\n",
        "\n",
        "class Discriminator(nn.Module):\n",
        "    def __init__(self):\n",
        "        super(Discriminator, self).__init__()\n",
        "        self.model = nn.Sequential(\n",
        "            nn.Flatten(),\n",
        "            nn.Linear(28*28, 512),\n",
        "            nn.LeakyReLU(0.2, inplace=True),\n",
        "            nn.Linear(512, 256),\n",
        "            nn.LeakyReLU(0.2, inplace=True),\n",
        "            nn.Linear(256, 1),\n",
        "            nn.Sigmoid()\n",
        "        )\n",
        "\n",
        "    def forward(self, img):\n",
        "        return self.model(img)\n",
        "\n",
        "#4.손실함수와 옵티마이저 정의\n",
        "latent_dim = 100\n",
        "generator = Generator(latent_dim).to(device)\n",
        "discriminator = Discriminator().to(device)\n",
        "\n",
        "criterion = nn.BCELoss()\n",
        "optimizer_G = torch.optim.Adam(generator.parameters(), lr=0.0002)\n",
        "optimizer_D = torch.optim.Adam(discriminator.parameters(), lr=0.0002)\n",
        "\n",
        "#5.학습 루프\n",
        "\n",
        "epochs = 20\n",
        "\n",
        "for epoch in range(epochs):\n",
        "    for i, (real_imgs, _) in enumerate(train_loader):\n",
        "        real_imgs = real_imgs.to(device)\n",
        "        batch_size = real_imgs.size(0)\n",
        "\n",
        "        # 진짜/가짜 라벨\n",
        "        real = torch.ones(batch_size, 1).to(device)\n",
        "        fake = torch.zeros(batch_size, 1).to(device)\n",
        "\n",
        "        # ---------------------\n",
        "        #  Train Generator\n",
        "        # ---------------------\n",
        "        z = torch.randn(batch_size, latent_dim).to(device)\n",
        "        gen_imgs = generator(z)\n",
        "        g_loss = criterion(discriminator(gen_imgs), real)\n",
        "\n",
        "        optimizer_G.zero_grad()\n",
        "        g_loss.backward()\n",
        "        optimizer_G.step()\n",
        "\n",
        "        # ---------------------\n",
        "        #  Train Discriminator\n",
        "        # ---------------------\n",
        "        real_loss = criterion(discriminator(real_imgs), real)\n",
        "        fake_loss = criterion(discriminator(gen_imgs.detach()), fake)\n",
        "        d_loss = real_loss + fake_loss\n",
        "\n",
        "        optimizer_D.zero_grad()\n",
        "        d_loss.backward()\n",
        "        optimizer_D.step()\n",
        "\n",
        "    print(f\"Epoch {epoch+1}/{epochs} | D Loss: {d_loss.item():.4f} | G Loss: {g_loss.item():.4f}\")\n",
        "\n",
        "#6.생성 이미지 시각화\n",
        "\n",
        "generator.eval()\n",
        "with torch.no_grad():\n",
        "    z = torch.randn(16, latent_dim).to(device)\n",
        "    gen_imgs = generator(z).cpu()\n",
        "\n",
        "    fig, axes = plt.subplots(4, 4, figsize=(6, 6))\n",
        "    for i in range(16):\n",
        "        axes[i//4, i%4].imshow(gen_imgs[i].squeeze(), cmap='gray')\n",
        "        axes[i//4, i%4].axis('off')\n",
        "    plt.suptitle(\"Generated Images from GAN\")\n",
        "    plt.tight_layout()\n",
        "    plt.show()\n",
        "\n",
        "\n",
        "\n",
        "\n"
      ]
    }
  ]
}